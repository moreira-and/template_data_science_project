{
 "cells": [
  {
   "cell_type": "markdown",
   "metadata": {},
   "source": []
  },
  {
   "cell_type": "markdown",
   "metadata": {},
   "source": [
    "## Importação das bibliotecas"
   ]
  },
  {
   "cell_type": "code",
   "execution_count": 1,
   "metadata": {},
   "outputs": [],
   "source": [
    "import sys\n",
    "import os\n",
    "\n",
    "# Adiciona o diretório src ao PYTHONPATH\n",
    "sys.path.append('../')\n",
    "\n",
    "import src.functions.function_example as fe\n",
    "import src.classes.class_example as ce"
   ]
  },
  {
   "cell_type": "code",
   "execution_count": 2,
   "metadata": {},
   "outputs": [
    {
     "data": {
      "text/plain": [
       "'Seja bem-vindo ao portfólio do André (https://github.com/moreira-and)'"
      ]
     },
     "execution_count": 2,
     "metadata": {},
     "output_type": "execute_result"
    }
   ],
   "source": [
    "fe.welcome_message()"
   ]
  },
  {
   "cell_type": "markdown",
   "metadata": {},
   "source": [
    "#### Exemplo de uso da classe Curriculo\n",
    "\n",
    "***"
   ]
  },
  {
   "cell_type": "code",
   "execution_count": 3,
   "metadata": {},
   "outputs": [
    {
     "name": "stdout",
     "output_type": "stream",
     "text": [
      "\n",
      "        ANDRÉ MOREIRA\n",
      "        Rua Pedro Diogo ∙ Vila União ∙ Campinas/SP\n",
      "        (19) 9 99220 8626 ∙ andmoreira98@gmail.com\n",
      "        \n",
      "        PERFIL PROFISSIONAL\n",
      "        Analista de Dados com cinco anos de experiência...\n",
      "        \n",
      "        EXPERIÊNCIA PROFISSIONAL\n",
      "        Experiência profissional detalhada...\n",
      "        \n",
      "        FORMAÇÃO ACADÊMICA\n",
      "        Formação acadêmica do profissional...\n",
      "        \n",
      "        PROJETOS ACADÊMICOS\n",
      "        Projetos acadêmicos ou práticos realizados...\n",
      "        \n",
      "        CERTIFICAÇÕES\n",
      "        Certificações obtidas...\n",
      "        \n",
      "        IDIOMAS\n",
      "        Idiomas que o profissional possui conhecimento...\n",
      "        \n",
      "        OUTRAS QUALIFICAÇÕES\n",
      "        Outras qualificações relevantes...\n",
      "        \n",
      "Seja bem-vindo ao portfólio do André (https://github.com/moreira-and)\n",
      "Ocorreu um erro: division by zero. A mensagem não pôde ser gerada.\n"
     ]
    }
   ],
   "source": [
    "# Dados pessoais do profissional\n",
    "nome = \"ANDRÉ MOREIRA\"\n",
    "endereco = \"Rua Pedro Diogo ∙ Vila União ∙ Campinas/SP\"\n",
    "telefone = \"(19) 9 99220 8626\"\n",
    "email = \"andmoreira98@gmail.com\"\n",
    "\n",
    "# Descrição do perfil profissional\n",
    "perfil_profissional = \"Analista de Dados com cinco anos de experiência...\"\n",
    "experiencia = \"Experiência profissional detalhada...\"\n",
    "formacao = \"Formação acadêmica do profissional...\"\n",
    "projetos = \"Projetos acadêmicos ou práticos realizados...\"\n",
    "certificacoes = \"Certificações obtidas...\"\n",
    "idiomas = \"Idiomas que o profissional possui conhecimento...\"\n",
    "outras_qualificacoes = \"Outras qualificações relevantes...\"\n",
    "\n",
    "# Criação de uma instância da classe Curriculo\n",
    "curriculo = ce.Curriculo(nome, endereco, telefone, email, perfil_profissional,\n",
    "                        experiencia, formacao, projetos, certificacoes, idiomas, outras_qualificacoes)"
   ]
  },
  {
   "cell_type": "markdown",
   "metadata": {},
   "source": [
    "##### Chamando o método exibir_curriculo"
   ]
  },
  {
   "cell_type": "code",
   "execution_count": 5,
   "metadata": {},
   "outputs": [
    {
     "name": "stdout",
     "output_type": "stream",
     "text": [
      "\n",
      "        ANDRÉ MOREIRA\n",
      "        Rua Pedro Diogo ∙ Vila União ∙ Campinas/SP\n",
      "        (19) 9 99220 8626 ∙ andmoreira98@gmail.com\n",
      "        \n",
      "        PERFIL PROFISSIONAL\n",
      "        Analista de Dados com cinco anos de experiência...\n",
      "        \n",
      "        EXPERIÊNCIA PROFISSIONAL\n",
      "        Experiência profissional detalhada...\n",
      "        \n",
      "        FORMAÇÃO ACADÊMICA\n",
      "        Formação acadêmica do profissional...\n",
      "        \n",
      "        PROJETOS ACADÊMICOS\n",
      "        Projetos acadêmicos ou práticos realizados...\n",
      "        \n",
      "        CERTIFICAÇÕES\n",
      "        Certificações obtidas...\n",
      "        \n",
      "        IDIOMAS\n",
      "        Idiomas que o profissional possui conhecimento...\n",
      "        \n",
      "        OUTRAS QUALIFICAÇÕES\n",
      "        Outras qualificações relevantes...\n",
      "        \n"
     ]
    }
   ],
   "source": [
    "# Exibição das informações do currículo\n",
    "curriculo.exibir_curriculo()"
   ]
  },
  {
   "cell_type": "markdown",
   "metadata": {},
   "source": [
    "##### Chamando o método show_welcome_message a partir da classe"
   ]
  },
  {
   "cell_type": "code",
   "execution_count": 6,
   "metadata": {},
   "outputs": [
    {
     "name": "stdout",
     "output_type": "stream",
     "text": [
      "Seja bem-vindo ao portfólio do André (https://github.com/moreira-and)\n"
     ]
    }
   ],
   "source": [
    "print(curriculo.show_welcome_message(simulate_error=False))  # Teste sem erro"
   ]
  },
  {
   "cell_type": "code",
   "execution_count": 7,
   "metadata": {},
   "outputs": [
    {
     "name": "stdout",
     "output_type": "stream",
     "text": [
      "Ocorreu um erro: division by zero. A mensagem não pôde ser gerada.\n"
     ]
    }
   ],
   "source": [
    "print(curriculo.show_welcome_message(simulate_error=True))   # Teste com erro"
   ]
  }
 ],
 "metadata": {
  "kernelspec": {
   "display_name": "MyFirstVirtualEnv",
   "language": "python",
   "name": "myfirstvirtualenv"
  },
  "language_info": {
   "codemirror_mode": {
    "name": "ipython",
    "version": 3
   },
   "file_extension": ".py",
   "mimetype": "text/x-python",
   "name": "python",
   "nbconvert_exporter": "python",
   "pygments_lexer": "ipython3",
   "version": "3.12.6"
  }
 },
 "nbformat": 4,
 "nbformat_minor": 2
}
